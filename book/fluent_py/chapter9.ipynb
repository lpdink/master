{
 "cells": [
  {
   "cell_type": "markdown",
   "metadata": {},
   "source": [
    "# 第九章 符合python风格的对象\n",
    "本章致力于让我们（用户）的自定义对象，与python的内置方法或标准库类型，拥有相同的能力与行为。  \n",
    "**鸭子类型**：\n",
    "> 当看到一只鸟走起来像鸭子、游泳起来像鸭子、叫起来也像鸭子，那么这只鸟就可以被称为鸭子。  \n",
    "\n",
    "鸭子类型是这样的类型：它与python的内置类型拥有相同的能力，因而与内置类型无法区分。  \n",
    "python允许并鼓励用户定义这样的类型。"
   ]
  },
  {
   "cell_type": "markdown",
   "metadata": {},
   "source": [
    "## 区分repr与str"
   ]
  },
  {
   "cell_type": "code",
   "execution_count": 2,
   "metadata": {},
   "outputs": [
    {
     "name": "stdout",
     "output_type": "stream",
     "text": [
      "str what a nice day!\n",
      "str what a nice day!\n",
      "repr what a nice day!\n",
      "str what a nice day!\n",
      "str what a nice day!\n"
     ]
    }
   ],
   "source": [
    "class TestBoth:\n",
    "    def __init__(self, log) -> None:\n",
    "        self.log=log\n",
    "\n",
    "    def __repr__(self) -> str:\n",
    "        return f\"repr {self.log}\"\n",
    "\n",
    "    def __str__(self) -> str:\n",
    "        return f\"str {self.log}\"\n",
    "test = TestBoth(\"what a nice day!\")\n",
    "print(test)\n",
    "print(str(test))\n",
    "print(repr(test))\n",
    "print(f\"{test}\")\n",
    "print(\"{}\".format(test))"
   ]
  },
  {
   "cell_type": "markdown",
   "metadata": {},
   "source": [
    "可以看到，在同时定义__repr__与__str__时，除了明确的repr()方法调用了__repr__外，其余几种调用都优先调用了__str__"
   ]
  },
  {
   "cell_type": "code",
   "execution_count": 4,
   "metadata": {},
   "outputs": [
    {
     "name": "stdout",
     "output_type": "stream",
     "text": [
      "str what a nice day!\n",
      "str what a nice day!\n",
      "<__main__.TestStr object at 0x7f52f108d100>\n",
      "str what a nice day!\n",
      "str what a nice day!\n"
     ]
    }
   ],
   "source": [
    "class TestStr:\n",
    "    def __init__(self, log) -> None:\n",
    "        self.log=log\n",
    "\n",
    "    def __str__(self) -> str:\n",
    "        return f\"str {self.log}\"\n",
    "\n",
    "test = TestStr(\"what a nice day!\")\n",
    "print(test)\n",
    "print(str(test))\n",
    "print(repr(test))\n",
    "print(f\"{test}\")\n",
    "print(\"{}\".format(test))"
   ]
  },
  {
   "cell_type": "markdown",
   "metadata": {},
   "source": [
    "如果只定义__str__，则repr的调用结果，将不是我们期望看到的可理解字符串格式。"
   ]
  },
  {
   "cell_type": "code",
   "execution_count": 5,
   "metadata": {},
   "outputs": [
    {
     "name": "stdout",
     "output_type": "stream",
     "text": [
      "repr what a nice day!\n",
      "repr what a nice day!\n",
      "repr what a nice day!\n",
      "repr what a nice day!\n",
      "repr what a nice day!\n"
     ]
    }
   ],
   "source": [
    "class TestRepr:\n",
    "    def __init__(self, log) -> None:\n",
    "        self.log=log\n",
    "\n",
    "    def __repr__(self) -> str:\n",
    "        return f\"repr {self.log}\"\n",
    "\n",
    "test = TestRepr(\"what a nice day!\")\n",
    "print(test)\n",
    "print(str(test))\n",
    "print(repr(test))\n",
    "print(f\"{test}\")\n",
    "print(\"{}\".format(test))"
   ]
  },
  {
   "cell_type": "markdown",
   "metadata": {},
   "source": [
    "但是，如果定义了repr方法，则所有的结果都成为可理解字符串格式了。  \n",
    "事实上，python的str方法是默认调用repr的而不是相反，覆写str方法将无法涵盖到repr方法。  \n",
    "因此，一个好的建议是，**让str继续维持内置的默认形式，我们只覆写repr方法。**"
   ]
  },
  {
   "cell_type": "markdown",
   "metadata": {},
   "source": [
    "## 定义鸭子类型\n",
    "本节提供一个较好的鸭子类型，它通过实现魔术方法，让自己具备大部分内置类型的能力。包括迭代，切片，随机访问，比较，字节化。  \n",
    "同时使用classmethod支持了备用的构造方法。  \n",
    "说明了自定义对象的哈希，及哈希对象的不可变性。  "
   ]
  },
  {
   "cell_type": "code",
   "execution_count": 23,
   "metadata": {},
   "outputs": [
    {
     "name": "stdout",
     "output_type": "stream",
     "text": [
      "(3.0, 4.0)\n",
      "(3.0, 4.0)\n",
      "Vector:3.0\n",
      "3.0 4.0\n",
      "3.0\n",
      "[3.0, 4.0]\n",
      "3.0\n",
      "4.0\n",
      "5.0\n",
      "b'd\\x00\\x00\\x00\\x00\\x00\\x00\\x08@\\x00\\x00\\x00\\x00\\x00\\x00\\x10@'\n",
      "(3.0, 4.0)\n"
     ]
    }
   ],
   "source": [
    "from array import array\n",
    "from math import hypot\n",
    "\n",
    "\n",
    "class Vector:\n",
    "    # d表示浮点，以支持与bytes对象的互相转换。\n",
    "    typecode = \"d\"\n",
    "    def __init__(self, x, y) -> None:\n",
    "        self._x=float(x)\n",
    "        self._y=float(y)\n",
    "    \n",
    "    # 这将支持Vector的元组拆包、迭代与for...in..\n",
    "    def __iter__(self):\n",
    "        yield self._x\n",
    "        yield self._y\n",
    "\n",
    "    # 支持切片与[]访问\n",
    "    def __getitem__(self, index):\n",
    "        return [self._x, self._y][index]\n",
    "    \n",
    "    def __repr__(self) -> str:\n",
    "        return \"{}:{}\".format(type(self).__name__, *self)\n",
    "\n",
    "    def __str__(self) -> str:\n",
    "        return str(tuple(self))\n",
    "\n",
    "    def __eq__(self, __o: object) -> bool:\n",
    "        # 是Vector类型，且两个维度的值相等.\n",
    "        return isinstance(__o, type(self)) and tuple(__o)==tuple(self)\n",
    "\n",
    "    def __abs__(self):\n",
    "        return hypot(self._x, self._y)\n",
    "\n",
    "    # 支持转换为字节序列\n",
    "    def __bytes__(self):\n",
    "        # array是扁平容器，内部的item格式要求是一致的，可以被bytes化。\n",
    "        # bytes([ord(self.typecode)]) 貌似等同于self.typecode.encode(\"utf-8\")\n",
    "        return bytes([ord(self.typecode)]) + bytes(array(self.typecode, self))\n",
    "\n",
    "    @classmethod\n",
    "    def frombytes(cls, octets):\n",
    "        # classmethod往往提供备选构造函数\n",
    "        # frombytes与bytes方法一起，构成了Vector对象与bytes的互相转换\n",
    "        # bytes类型是重要的，是多环境交流的桥梁。\n",
    "        # 为自定义类型定义与bytes的互相转换，允许它参与网络编程，从而与其他语言编写的程序交互。\n",
    "        typecode = chr(octets[0])\n",
    "        memv = memoryview(octets[1:]).cast(typecode)\n",
    "        return cls(*memv)\n",
    "\n",
    "    # 要哈希的对象，应该是不可改变的.因此使用只读器包裹不可变属性。\n",
    "    @property\n",
    "    def x(self):\n",
    "        return self._x\n",
    "\n",
    "    @property\n",
    "    def y(self):\n",
    "        return self._y\n",
    "\n",
    "    # 哈希。可哈希的对象一经初始化，其哈希值就不应该变化.\n",
    "    def __hash__(self) -> int:\n",
    "        return hash(self.x)^hash(self.y)\n",
    "    \n",
    "vector = Vector(3, 4)\n",
    "print(vector)\n",
    "print(str(vector))\n",
    "print(repr(vector))\n",
    "print(*vector)\n",
    "print(vector[0])\n",
    "print(vector[:])\n",
    "for dim in vector:\n",
    "    print(dim)\n",
    "print(abs(vector))\n",
    "print(bytes(vector))\n",
    "\n",
    "print(Vector.frombytes(bytes(vector)))\n"
   ]
  },
  {
   "cell_type": "markdown",
   "metadata": {},
   "source": [
    "让可哈希对象的哈希值可变是危险的，来看这样一个实例："
   ]
  },
  {
   "cell_type": "code",
   "execution_count": 20,
   "metadata": {},
   "outputs": [
    {
     "name": "stdout",
     "output_type": "stream",
     "text": [
      "test in dict is (1, 2)\n",
      "test not in dict!\n",
      "{<__main__.Test object at 0x7f52f16b8130>: (1, 2)}\n"
     ]
    }
   ],
   "source": [
    "class Test:\n",
    "    def __init__(self, x, y) -> None:\n",
    "        self.x=x\n",
    "        self.y=y\n",
    "\n",
    "    def __hash__(self) -> int:\n",
    "        return hash(self.x)^hash(self.y)\n",
    "\n",
    "dic=dict()\n",
    "test = Test(1,2)\n",
    "dic[test]=(1,2)\n",
    "print(f\"test in dict is {dic[test]}\")\n",
    "test.x=9999\n",
    "try:\n",
    "    print(f\"test in dict is {dic[test]}\")\n",
    "except KeyError:\n",
    "    print(\"test not in dict!\")\n",
    "    print(dic)"
   ]
  },
  {
   "cell_type": "markdown",
   "metadata": {},
   "source": [
    "在修改放入字典中的对象后，它*丢失*了。我们不再能通过修改后的对象查找到字典中的值了。"
   ]
  },
  {
   "cell_type": "markdown",
   "metadata": {},
   "source": [
    "## 哈希冲突\n",
    "本节说明简单哈希函数的冲突情况，尽管哈希相等，但python的字典依然能区分对象之间是否不同。  \n",
    "这依赖于__eq__，因此，定义__hash__时，常常也请定义__eq__，以使得散列对象的行为与你的期望相符。"
   ]
  },
  {
   "cell_type": "code",
   "execution_count": 29,
   "metadata": {},
   "outputs": [
    {
     "name": "stdout",
     "output_type": "stream",
     "text": [
      "==========\n",
      "hash is eq? True  True\n",
      "in dict? True True False\n",
      "7\n",
      "7\n"
     ]
    }
   ],
   "source": [
    "class Vector:\n",
    "    def __init__(self, x, y) -> None:\n",
    "        self._x=float(x)\n",
    "        self._y=float(y)\n",
    "\n",
    "    def __iter__(self):\n",
    "        yield self._x\n",
    "        yield self._y\n",
    "\n",
    "    def __eq__(self, __o: object) -> bool:\n",
    "        # 是Vector类型，且两个维度的值相等.\n",
    "        return isinstance(__o, type(self)) and tuple(__o)==tuple(self)\n",
    "\n",
    "    @property\n",
    "    def x(self):\n",
    "        return self._x\n",
    "\n",
    "    @property\n",
    "    def y(self):\n",
    "        return self._y\n",
    "\n",
    "    # 哈希。可哈希的对象一经初始化，其哈希值就不应该变化.\n",
    "    def __hash__(self) -> int:\n",
    "        return hash(self.x)^hash(self.y)\n",
    "        \n",
    "print(\"=\"*10)\n",
    "vector = Vector(3, 4)\n",
    "same_vector = Vector(3, 4)\n",
    "same_hash_vector = Vector(4, 3)\n",
    "print(f\"hash is eq? {hash(vector)==hash(same_vector)}  {hash(vector)==hash(same_hash_vector)}\")\n",
    "dic = dict()\n",
    "dic[vector]=tuple(vector)\n",
    "print(f\"in dict? {vector in dic.keys()} {same_vector in dic.keys()} {same_hash_vector in dic.keys()}\")\n",
    "# 在字典中存放哈希相等的key\n",
    "dic[same_hash_vector]=tuple(same_hash_vector)\n",
    "for key in dic.keys():\n",
    "    # 是相等的，python没有擅自修改被放入字典的对象的哈希值。\n",
    "    print(hash(key))"
   ]
  },
  {
   "cell_type": "markdown",
   "metadata": {},
   "source": [
    "## TODO:9.7"
   ]
  }
 ],
 "metadata": {
  "kernelspec": {
   "display_name": "Python 3.9.7 ('base')",
   "language": "python",
   "name": "python3"
  },
  "language_info": {
   "codemirror_mode": {
    "name": "ipython",
    "version": 3
   },
   "file_extension": ".py",
   "mimetype": "text/x-python",
   "name": "python",
   "nbconvert_exporter": "python",
   "pygments_lexer": "ipython3",
   "version": "3.9.7"
  },
  "orig_nbformat": 4,
  "vscode": {
   "interpreter": {
    "hash": "9cac8ce47e93fd0e70bb97eca0152a30679573bc55bffab6ae7551c45a66ecdf"
   }
  }
 },
 "nbformat": 4,
 "nbformat_minor": 2
}
