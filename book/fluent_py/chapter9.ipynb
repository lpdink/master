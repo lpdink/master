{
 "cells": [
  {
   "cell_type": "markdown",
   "metadata": {},
   "source": [
    "# 第九章 符合python风格的对象\n",
    "本章致力于让我们（用户）的自定义对象，与python的内置方法或标准库类型，拥有相同的能力与行为。  \n",
    "**鸭子类型**：\n",
    "> 当看到一只鸟走起来像鸭子、游泳起来像鸭子、叫起来也像鸭子，那么这只鸟就可以被称为鸭子。  \n",
    "\n",
    "鸭子类型是这样的类型：它与python的内置类型拥有相同的能力，因而与内置类型无法区分。  \n",
    "python允许并鼓励用户定义这样的类型。"
   ]
  },
  {
   "cell_type": "markdown",
   "metadata": {},
   "source": [
    "## 区分repr与str"
   ]
  },
  {
   "cell_type": "code",
   "execution_count": 2,
   "metadata": {},
   "outputs": [
    {
     "name": "stdout",
     "output_type": "stream",
     "text": [
      "str what a nice day!\n",
      "str what a nice day!\n",
      "repr what a nice day!\n",
      "str what a nice day!\n",
      "str what a nice day!\n"
     ]
    }
   ],
   "source": [
    "class TestBoth:\n",
    "    def __init__(self, log) -> None:\n",
    "        self.log=log\n",
    "\n",
    "    def __repr__(self) -> str:\n",
    "        return f\"repr {self.log}\"\n",
    "\n",
    "    def __str__(self) -> str:\n",
    "        return f\"str {self.log}\"\n",
    "test = TestBoth(\"what a nice day!\")\n",
    "print(test)\n",
    "print(str(test))\n",
    "print(repr(test))\n",
    "print(f\"{test}\")\n",
    "print(\"{}\".format(test))"
   ]
  },
  {
   "cell_type": "markdown",
   "metadata": {},
   "source": [
    "可以看到，在同时定义__repr__与__str__时，除了明确的repr()方法调用了__repr__外，其余几种调用都优先调用了__str__"
   ]
  },
  {
   "cell_type": "code",
   "execution_count": 4,
   "metadata": {},
   "outputs": [
    {
     "name": "stdout",
     "output_type": "stream",
     "text": [
      "str what a nice day!\n",
      "str what a nice day!\n",
      "<__main__.TestStr object at 0x7f52f108d100>\n",
      "str what a nice day!\n",
      "str what a nice day!\n"
     ]
    }
   ],
   "source": [
    "class TestStr:\n",
    "    def __init__(self, log) -> None:\n",
    "        self.log=log\n",
    "\n",
    "    def __str__(self) -> str:\n",
    "        return f\"str {self.log}\"\n",
    "\n",
    "test = TestStr(\"what a nice day!\")\n",
    "print(test)\n",
    "print(str(test))\n",
    "print(repr(test))\n",
    "print(f\"{test}\")\n",
    "print(\"{}\".format(test))"
   ]
  },
  {
   "cell_type": "markdown",
   "metadata": {},
   "source": [
    "如果只定义__str__，则repr的调用结果，将不是我们期望看到的可理解字符串格式。"
   ]
  },
  {
   "cell_type": "code",
   "execution_count": 5,
   "metadata": {},
   "outputs": [
    {
     "name": "stdout",
     "output_type": "stream",
     "text": [
      "repr what a nice day!\n",
      "repr what a nice day!\n",
      "repr what a nice day!\n",
      "repr what a nice day!\n",
      "repr what a nice day!\n"
     ]
    }
   ],
   "source": [
    "class TestRepr:\n",
    "    def __init__(self, log) -> None:\n",
    "        self.log=log\n",
    "\n",
    "    def __repr__(self) -> str:\n",
    "        return f\"repr {self.log}\"\n",
    "\n",
    "test = TestRepr(\"what a nice day!\")\n",
    "print(test)\n",
    "print(str(test))\n",
    "print(repr(test))\n",
    "print(f\"{test}\")\n",
    "print(\"{}\".format(test))"
   ]
  },
  {
   "cell_type": "markdown",
   "metadata": {},
   "source": [
    "但是，如果定义了repr方法，则所有的结果都成为可理解字符串格式了。  \n",
    "事实上，python的str方法是默认调用repr的而不是相反，覆写str方法将无法涵盖到repr方法。  \n",
    "因此，一个好的建议是，**让str继续维持内置的默认形式，我们只覆写repr方法。**"
   ]
  },
  {
   "cell_type": "markdown",
   "metadata": {},
   "source": [
    "## 定义鸭子类型\n",
    "本节提供一个较好的鸭子类型，它通过实现魔术方法，让自己具备大部分内置类型的能力。包括迭代，切片，随机访问，比较，字节化。  \n",
    "同时使用classmethod支持了备用的构造方法。  \n",
    "说明了自定义对象的哈希，及哈希对象的不可变性。  "
   ]
  },
  {
   "cell_type": "code",
   "execution_count": 23,
   "metadata": {},
   "outputs": [
    {
     "name": "stdout",
     "output_type": "stream",
     "text": [
      "(3.0, 4.0)\n",
      "(3.0, 4.0)\n",
      "Vector:3.0\n",
      "3.0 4.0\n",
      "3.0\n",
      "[3.0, 4.0]\n",
      "3.0\n",
      "4.0\n",
      "5.0\n",
      "b'd\\x00\\x00\\x00\\x00\\x00\\x00\\x08@\\x00\\x00\\x00\\x00\\x00\\x00\\x10@'\n",
      "(3.0, 4.0)\n"
     ]
    }
   ],
   "source": [
    "from array import array\n",
    "from math import hypot\n",
    "\n",
    "\n",
    "class Vector:\n",
    "    # d表示浮点，以支持与bytes对象的互相转换。\n",
    "    typecode = \"d\"\n",
    "    def __init__(self, x, y) -> None:\n",
    "        self._x=float(x)\n",
    "        self._y=float(y)\n",
    "    \n",
    "    # 这将支持Vector的元组拆包、迭代与for...in..\n",
    "    def __iter__(self):\n",
    "        yield self._x\n",
    "        yield self._y\n",
    "\n",
    "    # 支持切片与[]访问\n",
    "    def __getitem__(self, index):\n",
    "        return [self._x, self._y][index]\n",
    "    \n",
    "    def __repr__(self) -> str:\n",
    "        return \"{}:{}\".format(type(self).__name__, *self)\n",
    "\n",
    "    def __str__(self) -> str:\n",
    "        return str(tuple(self))\n",
    "\n",
    "    def __eq__(self, __o: object) -> bool:\n",
    "        # 是Vector类型，且两个维度的值相等.\n",
    "        return isinstance(__o, type(self)) and tuple(__o)==tuple(self)\n",
    "\n",
    "    def __abs__(self):\n",
    "        return hypot(self._x, self._y)\n",
    "\n",
    "    # 支持转换为字节序列\n",
    "    def __bytes__(self):\n",
    "        # array是扁平容器，内部的item格式要求是一致的，可以被bytes化。\n",
    "        # bytes([ord(self.typecode)]) 貌似等同于self.typecode.encode(\"utf-8\")\n",
    "        return bytes([ord(self.typecode)]) + bytes(array(self.typecode, self))\n",
    "\n",
    "    @classmethod\n",
    "    def frombytes(cls, octets):\n",
    "        # classmethod往往提供备选构造函数\n",
    "        # frombytes与bytes方法一起，构成了Vector对象与bytes的互相转换\n",
    "        # bytes类型是重要的，是多环境交流的桥梁。\n",
    "        # 为自定义类型定义与bytes的互相转换，允许它参与网络编程，从而与其他语言编写的程序交互。\n",
    "        typecode = chr(octets[0])\n",
    "        memv = memoryview(octets[1:]).cast(typecode)\n",
    "        return cls(*memv)\n",
    "\n",
    "    # 要哈希的对象，应该是不可改变的.因此使用只读器包裹不可变属性。\n",
    "    @property\n",
    "    def x(self):\n",
    "        return self._x\n",
    "\n",
    "    @property\n",
    "    def y(self):\n",
    "        return self._y\n",
    "\n",
    "    # 哈希。可哈希的对象一经初始化，其哈希值就不应该变化.\n",
    "    def __hash__(self) -> int:\n",
    "        return hash(self.x)^hash(self.y)\n",
    "    \n",
    "vector = Vector(3, 4)\n",
    "print(vector)\n",
    "print(str(vector))\n",
    "print(repr(vector))\n",
    "print(*vector)\n",
    "print(vector[0])\n",
    "print(vector[:])\n",
    "for dim in vector:\n",
    "    print(dim)\n",
    "print(abs(vector))\n",
    "print(bytes(vector))\n",
    "\n",
    "print(Vector.frombytes(bytes(vector)))\n"
   ]
  },
  {
   "cell_type": "markdown",
   "metadata": {},
   "source": [
    "让可哈希对象的哈希值可变是危险的，来看这样一个实例："
   ]
  },
  {
   "cell_type": "code",
   "execution_count": 20,
   "metadata": {},
   "outputs": [
    {
     "name": "stdout",
     "output_type": "stream",
     "text": [
      "test in dict is (1, 2)\n",
      "test not in dict!\n",
      "{<__main__.Test object at 0x7f52f16b8130>: (1, 2)}\n"
     ]
    }
   ],
   "source": [
    "class Test:\n",
    "    def __init__(self, x, y) -> None:\n",
    "        self.x=x\n",
    "        self.y=y\n",
    "\n",
    "    def __hash__(self) -> int:\n",
    "        return hash(self.x)^hash(self.y)\n",
    "\n",
    "dic=dict()\n",
    "test = Test(1,2)\n",
    "dic[test]=(1,2)\n",
    "print(f\"test in dict is {dic[test]}\")\n",
    "test.x=9999\n",
    "try:\n",
    "    print(f\"test in dict is {dic[test]}\")\n",
    "except KeyError:\n",
    "    print(\"test not in dict!\")\n",
    "    print(dic)"
   ]
  },
  {
   "cell_type": "markdown",
   "metadata": {},
   "source": [
    "在修改放入字典中的对象后，它*丢失*了。我们不再能通过修改后的对象查找到字典中的值了。"
   ]
  },
  {
   "cell_type": "markdown",
   "metadata": {},
   "source": [
    "## 哈希冲突\n",
    "本节说明简单哈希函数的冲突情况，尽管哈希相等，但python的字典依然能区分对象之间是否不同。  \n",
    "这依赖于__eq__，因此，定义__hash__时，常常也请定义__eq__，以使得散列对象的行为与你的期望相符。"
   ]
  },
  {
   "cell_type": "code",
   "execution_count": 29,
   "metadata": {},
   "outputs": [
    {
     "name": "stdout",
     "output_type": "stream",
     "text": [
      "==========\n",
      "hash is eq? True  True\n",
      "in dict? True True False\n",
      "7\n",
      "7\n"
     ]
    }
   ],
   "source": [
    "class Vector:\n",
    "    def __init__(self, x, y) -> None:\n",
    "        self._x=float(x)\n",
    "        self._y=float(y)\n",
    "\n",
    "    def __iter__(self):\n",
    "        yield self._x\n",
    "        yield self._y\n",
    "\n",
    "    def __eq__(self, __o: object) -> bool:\n",
    "        # 是Vector类型，且两个维度的值相等.\n",
    "        return isinstance(__o, type(self)) and tuple(__o)==tuple(self)\n",
    "\n",
    "    @property\n",
    "    def x(self):\n",
    "        return self._x\n",
    "\n",
    "    @property\n",
    "    def y(self):\n",
    "        return self._y\n",
    "\n",
    "    # 哈希。可哈希的对象一经初始化，其哈希值就不应该变化.\n",
    "    def __hash__(self) -> int:\n",
    "        return hash(self.x)^hash(self.y)\n",
    "        \n",
    "print(\"=\"*10)\n",
    "vector = Vector(3, 4)\n",
    "same_vector = Vector(3, 4)\n",
    "same_hash_vector = Vector(4, 3)\n",
    "print(f\"hash is eq? {hash(vector)==hash(same_vector)}  {hash(vector)==hash(same_hash_vector)}\")\n",
    "dic = dict()\n",
    "dic[vector]=tuple(vector)\n",
    "print(f\"in dict? {vector in dic.keys()} {same_vector in dic.keys()} {same_hash_vector in dic.keys()}\")\n",
    "# 在字典中存放哈希相等的key\n",
    "dic[same_hash_vector]=tuple(same_hash_vector)\n",
    "for key in dic.keys():\n",
    "    # 是相等的，python没有擅自修改被放入字典的对象的哈希值。\n",
    "    print(hash(key))"
   ]
  },
  {
   "cell_type": "markdown",
   "metadata": {},
   "source": [
    "## 虚假的private声明\n",
    "python通过为变量或函数标识符前置两个下划线(\\_\\_)的方法将它们表示为私有的。  \n",
    "但事实上，python并不提供**真正意义上**将方法或属性声明为私有的办法。  \n",
    "前置两个下划线(\\_\\_)的标识符将被解释器理解为\\_classname\\_\\_variableName。  \n",
    "看下面一个示例："
   ]
  },
  {
   "cell_type": "code",
   "execution_count": 4,
   "metadata": {},
   "outputs": [
    {
     "name": "stdout",
     "output_type": "stream",
     "text": [
      "['_Test__a', '_Test__b', '_Test__function']\n"
     ]
    }
   ],
   "source": [
    "class Test:\n",
    "    def __init__(self) -> None:\n",
    "        self.__a=\"a\"\n",
    "        self.__b=\"b\"\n",
    "    \n",
    "    def __function(self):\n",
    "        pass\n",
    "\n",
    "test = Test()\n",
    "print(dir(test)[:3])"
   ]
  },
  {
   "cell_type": "markdown",
   "metadata": {},
   "source": [
    "这是一种保护措施，但无法阻止故意的恶意行为。获得test对象的函数仍然可以通过test.\\_Test\\_\\_a=...来修改\"私有\"数据成员。  \n",
    "因此可以说，python提供的private声明是**虚假的**。  \n",
    "如果你强烈地不愿意获取test的用户修改它，那双下划线是可接受的，但多数情况下，由解释器去做这样的工作（指修改标识符命名）显得有点耍小聪明，违背了所见即所得的原则，让代码显得不那么可靠。  \n",
    "因此，一个更好的建议是，**使用单下划线**。声明类似:self.\\_a=...的成员。这向调用者传达了这样的信息：我不推荐你修改这样的数据成员，否则后果自负。  "
   ]
  },
  {
   "cell_type": "markdown",
   "metadata": {},
   "source": [
    "## 使用__all__暴露接口\n",
    "值得注意的是，单下划线声明的方法或变量不会被from package import *导入。  \n",
    "在开发大型工程中，更好的做法是使用\\_\\_all\\_\\_作为暴露接口的白名单："
   ]
  },
  {
   "cell_type": "code",
   "execution_count": null,
   "metadata": {},
   "outputs": [],
   "source": [
    "import math # import something here\n",
    "\n",
    "__all__=[\n",
    "    \"Open\",\n",
    "    \"function_open\",\n",
    "]\n",
    "\n",
    "class Open:\n",
    "    def __init__(self) -> None:\n",
    "        print(\"Open is instanced\")\n",
    "\n",
    "# 依然可以被from package import Closed引入。\n",
    "class Closed:\n",
    "    def __init__(self) -> None:\n",
    "        print(\"Closed is instanced\")\n",
    "\n",
    "def function_open():\n",
    "    print(\"open is called\")\n",
    "\n",
    "def function_close():\n",
    "    print(\"close is called\")"
   ]
  },
  {
   "cell_type": "markdown",
   "metadata": {},
   "source": [
    "定义\\_\\_all\\_\\_也是一种约定的艺术，没有出现在列表中的变量是package的编写者不推荐引用的，也不会被from package import *引入。  \n",
    "尽管用户依然可以通过from package import somethingClosed的方法引用，但违背了约定，就意味着要承担可能的后果。"
   ]
  },
  {
   "cell_type": "markdown",
   "metadata": {},
   "source": [
    "## 使用__slots__类节省空间\n",
    "python为每个实例的数据成员提供dict，使得它们能被立即索引。这是以空间换时间的常见方法。  \n",
    "但如果你的程序对空间更敏感，例如要创建百万个只拥有极少数据成员的实例，使用slots就能节省大量空间。（优化在50%以上）  \n",
    "声明一个元组类型的\\_\\_slots\\_\\_，在其中放入该类所有的数据成员标识符名。  \n",
    "此时self或类的实例将失去类似字典的可任意赋值的能力，类将只有slots中声明的数据成员。"
   ]
  },
  {
   "cell_type": "code",
   "execution_count": 3,
   "metadata": {},
   "outputs": [
    {
     "name": "stdout",
     "output_type": "stream",
     "text": [
      "a b\n",
      "can't set attr 'c'!\n"
     ]
    }
   ],
   "source": [
    "class Test:\n",
    "    __slots__=(\"a\", \"b\") # slots被声明为元组，因为你不期望类的数据成员命名可能变化。\n",
    "    def __init__(self) -> None:\n",
    "        self.a=\"a\"\n",
    "        self.b=\"b\"\n",
    "    \n",
    "    def set_c(self):\n",
    "        try:\n",
    "            # 没有在__slots__中声明\"c\"时，赋值会失败。\n",
    "            self.c=\"c\"\n",
    "        except AttributeError:\n",
    "            print(\"can't set attr 'c'!\")\n",
    "\n",
    "test = Test()\n",
    "print(test.a, test.b)\n",
    "test.set_c()"
   ]
  },
  {
   "cell_type": "markdown",
   "metadata": {},
   "source": [
    "注意两点：  \n",
    "- slots不会被继承，子类必须重新声明自己的slots。\n",
    "- 要使得类的成员可以被弱引用，需要在slots中加入\\_\\_weakref\\_\\_。"
   ]
  },
  {
   "cell_type": "markdown",
   "metadata": {},
   "source": [
    "## 覆盖类属性\n",
    "不被self定义，而是直接定义在类中的数据成员。类属性会被子类继承。  \n",
    "python允许通过实例去访问类的数据成员，当你这么做时（通过实例去访问或覆写类属性），实际上在为该实例创建该属性。  \n",
    "也就是说，覆写类属性，其实是在创建实例属性，原本的类属性没有被修改。  \n",
    "除非你通过ClassName.attr=...进行修改。不建议这样做，而应该使用继承。  "
   ]
  },
  {
   "cell_type": "code",
   "execution_count": 6,
   "metadata": {},
   "outputs": [
    {
     "name": "stdout",
     "output_type": "stream",
     "text": [
      "['__class__', '__delattr__', '__dict__', '__dir__', '__doc__', '__eq__', '__format__', '__ge__', '__getattribute__', '__gt__', '__hash__', '__init__', '__init_subclass__', '__le__', '__lt__', '__module__', '__ne__', '__new__', '__reduce__', '__reduce_ex__', '__repr__', '__setattr__', '__sizeof__', '__str__', '__subclasshook__', '__weakref__', 'class_attr_a', 'class_attr_b', 'instance_attr_a']\n",
      "test1  1\n"
     ]
    }
   ],
   "source": [
    "class Test:\n",
    "    class_attr_a=1\n",
    "    class_attr_b=\"b\"\n",
    "\n",
    "    def __init__(self) -> None:\n",
    "        self.instance_attr_a=\"instance_a\"\n",
    "\n",
    "test = Test()\n",
    "print(dir(test)) # 能获得class_attr_a/b\n",
    "another_test = Test()\n",
    "test.class_attr_a=\"test1\" # 修改一个实例的类成员，不会影响另外的实例。\n",
    "print(f\"{test.class_attr_a}  {another_test.class_attr_a}\")\n"
   ]
  },
  {
   "cell_type": "markdown",
   "metadata": {},
   "source": [
    "## 为继承考虑\n",
    "在面向对象编程中，继承可以说是多态性表现的核心。  \n",
    "在实际编码中，应该养成这样的习惯：**考虑正在编写的类将被继承的情况**。  \n",
    "也就是说，要使得**方法/属性被继承或重写后依然能正常工作**。  \n",
    "一个例子："
   ]
  },
  {
   "cell_type": "code",
   "execution_count": 7,
   "metadata": {},
   "outputs": [
    {
     "name": "stdout",
     "output_type": "stream",
     "text": [
      "Base Child\n"
     ]
    }
   ],
   "source": [
    "class Base:\n",
    "    def __repr__(self) -> str:\n",
    "        # 如果在这里写为return \"Base....\"，就很不利于继承时正常工作了。\n",
    "        return type(self).__name__\n",
    "\n",
    "class Child(Base):\n",
    "    pass\n",
    "\n",
    "base = Base()\n",
    "child = Child()\n",
    "print(base, child) #　子类的__repr__在很好地工作。"
   ]
  }
 ],
 "metadata": {
  "kernelspec": {
   "display_name": "Python 3.9.7 ('base')",
   "language": "python",
   "name": "python3"
  },
  "language_info": {
   "codemirror_mode": {
    "name": "ipython",
    "version": 3
   },
   "file_extension": ".py",
   "mimetype": "text/x-python",
   "name": "python",
   "nbconvert_exporter": "python",
   "pygments_lexer": "ipython3",
   "version": "3.9.7"
  },
  "orig_nbformat": 4,
  "vscode": {
   "interpreter": {
    "hash": "9cac8ce47e93fd0e70bb97eca0152a30679573bc55bffab6ae7551c45a66ecdf"
   }
  }
 },
 "nbformat": 4,
 "nbformat_minor": 2
}
