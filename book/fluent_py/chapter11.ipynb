{
 "cells": [
  {
   "cell_type": "markdown",
   "metadata": {},
   "source": [
    "# 第11章：接口——从协议到抽象基类\n",
    "> 抽象类表示接口。\n",
    "\n",
    "> 非常不建议编写抽象基类(强接口)，因为很容易过度设计。除非你在编写框架。\n",
    "\n",
    "> 如果你告诉解释器一个对象是鸭子，解释器就尽最大全力把它当作鸭子去对待。"
   ]
  },
  {
   "cell_type": "markdown",
   "metadata": {},
   "source": [
    "## 使用isinstance而不是type is\n",
    "isinstance在检查对象是否是类及类的超类的实例，远比type(obj) is CLASS更有利于继承。  \n",
    "看下面一个例子，我们编写一个聪明的人，他会丢掉垃圾，吃掉食物，把硬币存起来。"
   ]
  },
  {
   "cell_type": "code",
   "execution_count": 2,
   "metadata": {},
   "outputs": [],
   "source": [
    "class Rubbish:\n",
    "    pass\n",
    "\n",
    "class Food:\n",
    "    pass\n",
    "\n",
    "class Coin:\n",
    "    pass\n",
    "\n",
    "class Person:\n",
    "    def handle(self, obj):\n",
    "        if type(obj) is Rubbish:\n",
    "           self.throw(obj)\n",
    "        elif type(obj) is Food:\n",
    "            self.eat(obj)\n",
    "        elif type(obj) is Coin:\n",
    "            self.save(obj)\n",
    "        else:\n",
    "            print(f\"I don't know hot to handle type {type(obj).__name__}\")\n",
    "\n",
    "    def eat(self, obj):\n",
    "        print(f\"eating {obj}...\")\n",
    "\n",
    "    def throw(self, obj):\n",
    "        print(f\"throwing {obj}...\")\n",
    "\n",
    "    def save(self, obj):\n",
    "        print(f\"saving {obj}...\")\n",
    "        "
   ]
  },
  {
   "cell_type": "markdown",
   "metadata": {},
   "source": [
    "它工作得很好。但如果我们要添加对布丁（一种食物）的处理呢？  \n",
    "Pudding会继承Food，但是Person此时不知道应该如何处理Pudding。因为type(obj) is not Food.  \n",
    "使用isinstance就没有问题了。  "
   ]
  },
  {
   "cell_type": "code",
   "execution_count": 5,
   "metadata": {},
   "outputs": [
    {
     "name": "stdout",
     "output_type": "stream",
     "text": [
      "eating <__main__.Pudding object at 0x7f1f16d79070>...\n"
     ]
    }
   ],
   "source": [
    "class Rubbish:\n",
    "    pass\n",
    "\n",
    "class Food:\n",
    "    pass\n",
    "\n",
    "class Coin:\n",
    "    pass\n",
    "\n",
    "class Person:\n",
    "    def handle(self, obj):\n",
    "        if isinstance(obj, Rubbish):\n",
    "           self.throw(obj)\n",
    "        elif isinstance(obj, Food):\n",
    "            self.eat(obj)\n",
    "        elif isinstance(obj, Coin):\n",
    "            self.save(obj)\n",
    "        else:\n",
    "            print(f\"I don't know hot to handle type {type(obj).__name__}\")\n",
    "\n",
    "    def eat(self, obj):\n",
    "        print(f\"eating {obj}...\")\n",
    "\n",
    "    def throw(self, obj):\n",
    "        print(f\"throwing {obj}...\")\n",
    "\n",
    "    def save(self, obj):\n",
    "        print(f\"saving {obj}...\")\n",
    "        \n",
    "class Pudding(Food):\n",
    "    pass\n",
    "\n",
    "pudding = Pudding()\n",
    "person = Person()\n",
    "person.handle(pudding)"
   ]
  },
  {
   "cell_type": "markdown",
   "metadata": {},
   "source": [
    "> 顺带一提，这里常用single-dispatch解耦。此前pangolin项目中从openfst出来的文本读法类型，也应该用value-dispatch解耦的。但是没有采用，是出于什么考虑呢..."
   ]
  },
  {
   "cell_type": "markdown",
   "metadata": {},
   "source": [
    "## 将大部分异常交给解释器，并立即失败\n",
    "在工程开发中，并不是所有的异常都要自己处理的。  \n",
    "一个好的原则是：\n",
    "- 如果输入来自用户：应该手动处理一切异常，确保对用户的每个输入都有响应。模块能通过猴子测试。\n",
    "- 如果在模块内部，确保debug时抛出的异常信息能让开发者，或后来的维护者意识到发生了什么即可。这样的错误不应该导致维护者需要修改模块，而应该是该维护者的外部调用不当。"
   ]
  },
  {
   "cell_type": "markdown",
   "metadata": {},
   "source": [
    "编写一个处理jpg文件的脚本。  \n",
    "提供给开发者:"
   ]
  },
  {
   "cell_type": "code",
   "execution_count": 13,
   "metadata": {},
   "outputs": [
    {
     "name": "stdout",
     "output_type": "stream",
     "text": [
      "[Errno 2] No such file or directory: 'my jpg folder'\n",
      "<lambda>() missing 1 required positional argument: 'y'\n",
      "'str' object is not callable\n"
     ]
    }
   ],
   "source": [
    "import os\n",
    "\n",
    "def handle_jpg(dir_path, func):\n",
    "    files = os.listdir(dir_path)\n",
    "    for file_name in files:\n",
    "        file_path = os.path.join(dir_path, file_name)\n",
    "        if file_path.endswith(\".jpg\"):\n",
    "            func(file_path)\n",
    "    print(\"handle_jpg done.\")\n",
    "# 这里故意触发几种异常。\n",
    "# 以说明解释器抛出的异常在大多数时候足以令开发者明白发生了什么。\n",
    "try:\n",
    "    handle_jpg(\"my jpg folder\", lambda x: print(x))\n",
    "except Exception as e:\n",
    "    print(e)\n",
    "    \n",
    "try:\n",
    "    handle_jpg(\"./\", lambda x,y: print(x,y))\n",
    "except Exception as e:\n",
    "    print(e)\n",
    "\n",
    "try:\n",
    "    handle_jpg(\"./\", \"my function?\")\n",
    "except Exception as e:\n",
    "    print(e)"
   ]
  },
  {
   "cell_type": "markdown",
   "metadata": {},
   "source": [
    "但如果该模块是提供给用户的，就必须非常清晰:"
   ]
  },
  {
   "cell_type": "code",
   "execution_count": null,
   "metadata": {},
   "outputs": [],
   "source": [
    "import os\n",
    "from types import FunctionType\n",
    "\n",
    "def handle_jpg(dir_path, func):\n",
    "    if not os.path.isdir(dir_path):\n",
    "        print(\"给出的dir_path不是一个存在的合法路径，请检查.\")\n",
    "        return False\n",
    "    if not isinstance(func, FunctionType):\n",
    "        print(f\"func需要是一个接受图片路径作为参数的函数.而不是{type(func).__name__}类型\")\n",
    "        return False\n",
    "    files = os.listdir(dir_path)\n",
    "    jpg_paths = [os.path.join(dir_path, file_name) for file_name in files if file_name.endswith(\".jpg\")]\n",
    "    # 如果没有jpg，最好还要发出警告\n",
    "    if len(jpg_paths)==0:\n",
    "        print(f\"Warning: No jpg find in {dir_path}.\")\n",
    "        return True\n",
    "    # 执行用户的函数，我们无法预期该函数会发生什么，故尽最大可能捕获。\n",
    "    for jpg in jpg_paths:\n",
    "        try:\n",
    "            func(jpg)\n",
    "        except Exception as e:\n",
    "            print(f\"使用输入func处理{jpg}时发生错误，错误信息:\\n{e}\")\n",
    "            return False\n",
    "    print(\"handle_jpg done.\")\n",
    "    return True"
   ]
  },
  {
   "cell_type": "markdown",
   "metadata": {},
   "source": [
    "在添加比较完备的异常处理后，一个7行的函数甚至可以拓展到23行。  \n",
    "这使得阅读核心代码变得困难。因此，绝不要在非用户接口处定义过多的异常捕获及说明函数。而应该将这一工作交给解释器。  \n",
    "即使在写业务，也应该实现用户交互逻辑与核心算法的分离。  "
   ]
  },
  {
   "cell_type": "markdown",
   "metadata": {},
   "source": [
    "## 继承抽象类\n",
    "在python中，即使是抽象类，也不强制要求实现所有的方法。只有抽象类中的抽象方法，是继承该抽象类所必须实现的。"
   ]
  },
  {
   "cell_type": "code",
   "execution_count": 18,
   "metadata": {},
   "outputs": [],
   "source": [
    "from collections.abc import MutableSequence\n",
    "\n",
    "class Test(MutableSequence):\n",
    "    def __setitem__(self, position, value):\n",
    "        print(f\"set position {position} to {value}\")\n",
    "    \n",
    "    def __delitem__(self, position):\n",
    "        print(f\"delete position {position} obj.\")\n",
    "\n",
    "    def __getitem__(self, position):\n",
    "        print(f\"get item from position {position}\")\n",
    "\n",
    "    def __len__(self) -> int:\n",
    "        return 10\n",
    "\n",
    "    def insert(self, position, value):\n",
    "        print(f\"insert {value} to {position}\")\n",
    "# 以上的方法都是抽象方法，因而必须实现，否则会在尝试实例化对象时抛出异常.\n",
    "# Can't instantiate abstract class Test with abstract method [abc method list]\n",
    "test = Test()"
   ]
  },
  {
   "cell_type": "markdown",
   "metadata": {},
   "source": [
    "## TODO: 11.6 标准库中的抽象基类"
   ]
  }
 ],
 "metadata": {
  "kernelspec": {
   "display_name": "base",
   "language": "python",
   "name": "python3"
  },
  "language_info": {
   "codemirror_mode": {
    "name": "ipython",
    "version": 3
   },
   "file_extension": ".py",
   "mimetype": "text/x-python",
   "name": "python",
   "nbconvert_exporter": "python",
   "pygments_lexer": "ipython3",
   "version": "3.9.7"
  },
  "orig_nbformat": 4,
  "vscode": {
   "interpreter": {
    "hash": "9cac8ce47e93fd0e70bb97eca0152a30679573bc55bffab6ae7551c45a66ecdf"
   }
  }
 },
 "nbformat": 4,
 "nbformat_minor": 2
}
