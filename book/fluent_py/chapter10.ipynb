{
 "cells": [
  {
   "cell_type": "markdown",
   "metadata": {},
   "source": [
    "# 第10章：序列的修改、散列和切片\n",
    "本章将实现一个多维的扁平Vector类。"
   ]
  },
  {
   "cell_type": "markdown",
   "metadata": {},
   "source": [
    "## 使用reprlib显示少量元素\n",
    "reprlib.repr将只显示列表元素的少数元素，大量部分用...替代。  "
   ]
  },
  {
   "cell_type": "code",
   "execution_count": 5,
   "metadata": {},
   "outputs": [
    {
     "name": "stdout",
     "output_type": "stream",
     "text": [
      "Vector([0.0, 1.0, 2.0, 3.0, 4.0, ...])\n"
     ]
    }
   ],
   "source": [
    "from array import array\n",
    "import reprlib\n",
    "\n",
    "class Vector:\n",
    "    typecode = \"d\"\n",
    "\n",
    "    def __init__(self, components):\n",
    "        self._components = array(self.typecode, components)\n",
    "\n",
    "    def __repr__(self):\n",
    "        rst = reprlib.repr(self._components)\n",
    "        rst = rst[rst.find(\"[\"):-1]\n",
    "        return f\"Vector({rst})\"\n",
    "\n",
    "v = Vector(range(10000))\n",
    "print(v)"
   ]
  },
  {
   "cell_type": "markdown",
   "metadata": {},
   "source": [
    "## 协议与不完美的切片\n",
    "与严格基于接口的语言不同，python可以不通过继承序列类，而仅仅实现序列必须的方法(即len与getitem)来使得对象成为序列。  \n",
    "> 在协程的数据protocol中，恐怕也是同样的情况，只是定义的函数不是魔术方法而已。  \n",
    "> 我个人不喜欢python的这一设计，这提高了灵活性，但往往令人费解。严格使用interface，不但告诉用户应该实现哪些方法，也告诉了用户这些方法的函数签名如何。\n",
    "\n",
    "> 因此，更好的做法是继承抽象类，再去实现对应的方法，而不是直接实现同签名方法。这在告诉读者，之所以这里能工作，而不是像在变魔术，是因为本类与调用者达成了一个**协议**。\n",
    "\n",
    "作者在杂谈中指出，你希望对象具有什么样的行为，就为它实现怎样的方法，而非为了编译器开心去实现接口的所有方法(保持KISS原则，keep it simple and stupid)。如果正式地使用接口，就被要求实现所有的方法，如果使用协议这种（不正式的接口），就可以只实现部分方法。  \n",
    "你不能期望生成一批笛卡尔积的接口供你继承。那太蠢了。  "
   ]
  },
  {
   "cell_type": "code",
   "execution_count": 9,
   "metadata": {},
   "outputs": [
    {
     "name": "stdout",
     "output_type": "stream",
     "text": [
      "array('d', [5.0, 6.0, 7.0, 8.0, 9.0])\n"
     ]
    }
   ],
   "source": [
    "from array import array\n",
    "import reprlib\n",
    "\n",
    "class Vector:\n",
    "    typecode = \"d\"\n",
    "\n",
    "    def __init__(self, components):\n",
    "        self._components = array(self.typecode, components)\n",
    "\n",
    "    def __repr__(self):\n",
    "        rst = reprlib.repr(self._components)\n",
    "        rst = rst[rst.find(\"[\"):-1]\n",
    "        return f\"Vector({rst})\"\n",
    "\n",
    "    def __len__(self):\n",
    "        return len(self._components)\n",
    "\n",
    "    def __getitem__(self, index):\n",
    "        return self._components[index]\n",
    "\n",
    "v = Vector(range(10000))\n",
    "# Vector实例确实可以切片了，但切片的结果却不是Vector实例，这不符合预期。\n",
    "print(v[5:10])"
   ]
  },
  {
   "cell_type": "markdown",
   "metadata": {},
   "source": [
    "## 切片原理与更好的切片\n",
    "在进行切片或随机访问时，都将调用getitem方法。但getitem方法取得的参数却是不同类型的。"
   ]
  },
  {
   "cell_type": "code",
   "execution_count": 2,
   "metadata": {},
   "outputs": [
    {
     "name": "stdout",
     "output_type": "stream",
     "text": [
      "<class 'slice'> slice(5, 10, None)\n",
      "['__class__', '__delattr__', '__dir__', '__doc__', '__eq__', '__format__', '__ge__', '__getattribute__', '__gt__', '__hash__', '__init__', '__init_subclass__', '__le__', '__lt__', '__ne__', '__new__', '__reduce__', '__reduce_ex__', '__repr__', '__setattr__', '__sizeof__', '__str__', '__subclasshook__', 'indices', 'start', 'step', 'stop']\n",
      "array('d', [5.0, 6.0, 7.0, 8.0, 9.0])\n"
     ]
    }
   ],
   "source": [
    "from array import array\n",
    "import reprlib\n",
    "\n",
    "class Vector:\n",
    "    typecode = \"d\"\n",
    "\n",
    "    def __init__(self, components):\n",
    "        self._components = array(self.typecode, components)\n",
    "\n",
    "    def __repr__(self):\n",
    "        rst = reprlib.repr(self._components)\n",
    "        rst = rst[rst.find(\"[\"):-1]\n",
    "        return f\"Vector({rst})\"\n",
    "\n",
    "    def __len__(self):\n",
    "        return len(self._components)\n",
    "\n",
    "    def __getitem__(self, index):\n",
    "        print(type(index), index)\n",
    "        print(dir(index))\n",
    "        return self._components[index]\n",
    "\n",
    "v = Vector(range(10000))\n",
    "# 类型是int\n",
    "# print(v[5])\n",
    "# 类型是slice\n",
    "print(v[5:10])\n"
   ]
  },
  {
   "cell_type": "markdown",
   "metadata": {},
   "source": [
    "在使用切片访问时，传入的index被构造成一个slice类型。  \n",
    "切片具有三个要素，start, stop, step。  \n",
    "slice类型具备关键的indices方法，将缺省的切片要素补全（填充0或length），将-x转换为合理的类型。这非常有用。  \n",
    "由此，我们可以定义更好的切片，让切片的结果也是一个Vector对象。"
   ]
  },
  {
   "cell_type": "code",
   "execution_count": 9,
   "metadata": {},
   "outputs": [
    {
     "name": "stdout",
     "output_type": "stream",
     "text": [
      "Vector([5.0, 6.0, 7.0, 8.0, 9.0])\n"
     ]
    }
   ],
   "source": [
    "from array import array\n",
    "import reprlib\n",
    "import numbers\n",
    "\n",
    "class Vector:\n",
    "    typecode = \"d\"\n",
    "    def __init__(self, components):\n",
    "        self._components = array(self.typecode, components)\n",
    "\n",
    "    def __repr__(self):\n",
    "        rst = reprlib.repr(self._components)\n",
    "        rst = rst[rst.find(\"[\"):-1]\n",
    "        return f\"Vector({rst})\"\n",
    "\n",
    "    def __len__(self):\n",
    "        return len(self._components)\n",
    "\n",
    "    def __getitem__(self, index):\n",
    "        # type在获得某一对象的类，可以用这一方法根据对象构造其他对象。\n",
    "        cls = type(self)\n",
    "        if isinstance(index, slice):\n",
    "            return cls(self._components[index])\n",
    "        elif isinstance(index, numbers.Integral):\n",
    "            return self._components[index]\n",
    "        else:\n",
    "            # Vector的getitem访问只应该支持索引与整数切片\n",
    "            # 而不是表现得像字典。\n",
    "            msg = f\"{cls.__name__} indices must be integers.\"\n",
    "            raise TypeError(msg)\n",
    "\n",
    "v = Vector(range(10000))\n",
    "print(v[5:10])"
   ]
  },
  {
   "cell_type": "markdown",
   "metadata": {},
   "source": [
    "## 使用setattr与getattr\n",
    "自定义对象不使用默认的setattr方法时，常可以通过obj.somenewattr来添加本不属于类的属性，很多时候这不符合预期。  \n",
    "另一种常见情况是，要阻止用户写某些属性。除了使用@property装饰器，还可以通过setattr做得更彻底。  "
   ]
  },
  {
   "cell_type": "code",
   "execution_count": 3,
   "metadata": {},
   "outputs": [
    {
     "name": "stdout",
     "output_type": "stream",
     "text": [
      "Vector([5.0, 6.0, 7.0, 8.0, 9.0])\n",
      "0.0 1.0 2.0\n",
      "['__class__', '__delattr__', '__dict__', '__dir__', '__doc__', '__eq__', '__format__', '__ge__', '__getattr__', '__getattribute__', '__getitem__', '__gt__', '__hash__', '__init__', '__init_subclass__', '__le__', '__len__', '__lt__', '__module__', '__ne__', '__new__', '__reduce__', '__reduce_ex__', '__repr__', '__setattr__', '__sizeof__', '__str__', '__subclasshook__', '__weakref__', '_components', 'dimattr', 'typecode']\n"
     ]
    }
   ],
   "source": [
    "from array import array\n",
    "import reprlib\n",
    "import numbers\n",
    "\n",
    "class Vector:\n",
    "    typecode = \"d\"\n",
    "    # 希望vector向外提供xyz三个维度的直接访问\n",
    "    dimattr=\"xyz\"\n",
    "    def __init__(self, components):\n",
    "        self._components = array(self.typecode, components)\n",
    "\n",
    "    # 支持x, y, z访问\n",
    "    def __getattr__(self, name):\n",
    "        cls = type(self)\n",
    "        if len(name)==1:\n",
    "            pos = cls.dimattr.find(name)\n",
    "            # 当确实有N个数字在列表中时\n",
    "            if 0<=pos<len(self._components):\n",
    "                return self._components[pos]\n",
    "    \n",
    "    # 阻止向x, y, z 设值\n",
    "    def __setattr__(self, name, value):\n",
    "        if name in self.dimattr and len(name)==1:\n",
    "            msg = f\"read-only attr {name}\"\n",
    "            raise AttributeError(msg)\n",
    "        # 通过super()访问超类方法\n",
    "        super().__setattr__(name, value)\n",
    "\n",
    "    def __repr__(self):\n",
    "        rst = reprlib.repr(self._components)\n",
    "        rst = rst[rst.find(\"[\"):-1]\n",
    "        return f\"Vector({rst})\"\n",
    "\n",
    "    def __len__(self):\n",
    "        return len(self._components)\n",
    "\n",
    "    def __getitem__(self, index):\n",
    "        # type在获得某一对象的类，可以用这一方法根据对象构造其他对象。\n",
    "        cls = type(self)\n",
    "        if isinstance(index, slice):\n",
    "            return cls(self._components[index])\n",
    "        elif isinstance(index, numbers.Integral):\n",
    "            return self._components[index]\n",
    "        else:\n",
    "            # Vector的getitem访问只应该支持索引与整数切片\n",
    "            # 而不是表现得像字典。\n",
    "            msg = f\"{cls.__name__} indices must be integers.\"\n",
    "            raise TypeError(msg)\n",
    "\n",
    "v = Vector(range(10000))\n",
    "print(v[5:10])\n",
    "print(v.x, v.y, v.z)\n",
    "print(dir(v))"
   ]
  },
  {
   "cell_type": "markdown",
   "metadata": {},
   "source": [
    "**注意**，如果你为类定义了成员变量，就不能通过setattr来阻止用户修改它。因为你定义时（实际上）也是通过调用setattr来完成的。  \n",
    "类的编写者和用户具备相同的权力。  \n",
    "除非是上例的情况，在上例中，xyz实际上并不是Vector的数据成员。只是能通过getattr得到而已。  \n",
    "也是因为这个原因，set与get attr常常一起定义，以避免行为的不一致性。如果你只定义了一个，请想清楚自己做的是否正确。  \n",
    "通过调整setattr与getattr取得动态的做法并不推荐，这将使得变量拥有不在dir(obj)内的属性。这显然是某种与内置对象的行为不一致性。  "
   ]
  },
  {
   "cell_type": "markdown",
   "metadata": {},
   "source": [
    "## 10.6 散列与快速等值测试\n",
    "实现hash时也许也需要实现eq，这样字典才可能出现重写。按照内置的eq，独立申请的对象是无法重写的。  \n",
    "使用reduce，可以方便地异或向量的所有分量，以生成该向量的hash."
   ]
  },
  {
   "cell_type": "code",
   "execution_count": 4,
   "metadata": {},
   "outputs": [
    {
     "name": "stdout",
     "output_type": "stream",
     "text": [
      "True False\n",
      "True True 1\n",
      "{Vector([0.0, 1.0, 2.0, 3.0, 4.0, ...]): 'v2'}\n"
     ]
    }
   ],
   "source": [
    "from array import array\n",
    "import reprlib\n",
    "import numbers\n",
    "import functools\n",
    "import operator # 包含python支持的所有中缀运算符\n",
    "\n",
    "class Vector:\n",
    "    typecode = \"d\"\n",
    "    def __init__(self, components):\n",
    "        self._components = array(self.typecode, components)\n",
    "\n",
    "    def __repr__(self):\n",
    "        rst = reprlib.repr(self._components)\n",
    "        rst = rst[rst.find(\"[\"):-1]\n",
    "        return f\"Vector({rst})\"\n",
    "\n",
    "    def __len__(self):\n",
    "        return len(self._components)\n",
    "\n",
    "    def __getitem__(self, index):\n",
    "        # type在获得某一对象的类，可以用这一方法根据对象构造其他对象。\n",
    "        cls = type(self)\n",
    "        if isinstance(index, slice):\n",
    "            return cls(self._components[index])\n",
    "        elif isinstance(index, numbers.Integral):\n",
    "            return self._components[index]\n",
    "        else:\n",
    "            # Vector的getitem访问只应该支持索引与整数切片\n",
    "            # 而不是表现得像字典。\n",
    "            msg = f\"{cls.__name__} indices must be integers.\"\n",
    "            raise TypeError(msg)\n",
    "\n",
    "    def __hash__(self) -> int:\n",
    "        # 计算各个分量的hash\n",
    "        # 也可以写作 hashes = map(hash, self._components)\n",
    "        hashes = (hash(x) for x in self._components)\n",
    "        # operator.xor == lambda x,y:x^y\n",
    "        return functools.reduce(operator.xor, hashes, initial=0) # 提供initial，作为reduce的第一个参数，以免self._components是空的\n",
    "\n",
    "    def __eq__(self, __o: object) -> bool:\n",
    "        return tuple(self)==tuple(__o)\n",
    "\n",
    "dic = dict()\n",
    "v1 = Vector(range(10))\n",
    "v2 = Vector(range(10))\n",
    "print(v1==v2, v1 is v2)\n",
    "dic[v1]=\"v1\"\n",
    "dic[v2]=\"v2\"\n",
    "# dic中只有一个元素，v1==v2，故v1被重写了。\n",
    "print(v1 in dic.keys(), v2 in dic.keys(), len(dic))\n",
    "print(dic)"
   ]
  },
  {
   "cell_type": "markdown",
   "metadata": {},
   "source": [
    "上述实现的eq方法是低效的，复杂度一定等于O(n)，使用提前退出的方法优化它："
   ]
  },
  {
   "cell_type": "code",
   "execution_count": null,
   "metadata": {},
   "outputs": [],
   "source": [
    "class Vector:\n",
    "    def __eq__(self, __o: object) -> bool:\n",
    "        if len(self)!=len(__o):\n",
    "            return False\n",
    "        for a, b in zip(self, __o):\n",
    "            if a!=b:\n",
    "                return False\n",
    "        return True"
   ]
  },
  {
   "cell_type": "markdown",
   "metadata": {},
   "source": [
    "可以使用all方法进一步优化代码书写"
   ]
  },
  {
   "cell_type": "code",
   "execution_count": null,
   "metadata": {},
   "outputs": [],
   "source": [
    "class Vector:\n",
    "    def __eq__(self, __o: object) -> bool:\n",
    "        return len(self)==len(__o) and all(a==b for a, b in zip(self, __o))"
   ]
  }
 ],
 "metadata": {
  "kernelspec": {
   "display_name": "Python 3.9.7 ('base')",
   "language": "python",
   "name": "python3"
  },
  "language_info": {
   "codemirror_mode": {
    "name": "ipython",
    "version": 3
   },
   "file_extension": ".py",
   "mimetype": "text/x-python",
   "name": "python",
   "nbconvert_exporter": "python",
   "pygments_lexer": "ipython3",
   "version": "3.9.7"
  },
  "orig_nbformat": 4,
  "vscode": {
   "interpreter": {
    "hash": "9cac8ce47e93fd0e70bb97eca0152a30679573bc55bffab6ae7551c45a66ecdf"
   }
  }
 },
 "nbformat": 4,
 "nbformat_minor": 2
}
