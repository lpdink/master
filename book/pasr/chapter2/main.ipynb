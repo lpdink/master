{
 "cells": [
  {
   "cell_type": "markdown",
   "metadata": {},
   "source": [
    "# 第二章：语音特征提取\n",
    "原始的语音信号有过多冗杂信息，直接输入机器学习模型的效率较低，故需要进行语音信号的预处理，并提取语音特征。"
   ]
  },
  {
   "cell_type": "markdown",
   "metadata": {},
   "source": [
    "## 预加重\n",
    "语音经发声者的口唇辐射发出，会受到唇端辐射抑制，高频能量被明显降低，\n",
    "语音信号的频率提高2倍时，功率谱的幅度下降6dB.即语音信号的高频部分受到的抑制较大。\n",
    "预加重就是为了补偿语音信号高频部分的振幅。\n",
    "\n",
    "公式：\n",
    "```\n",
    "s`(n)=s(n)-a*s(n-1)  a≈0.98\n",
    "```"
   ]
  },
  {
   "cell_type": "code",
   "execution_count": null,
   "metadata": {},
   "outputs": [],
   "source": [
    "from copy import deepcopy\n",
    "from collections.abc import Container\n",
    "def preemphasis(data, a=0.98):\n",
    "    \"\"\"预加重，公式:s`(n)=s(n)-a*s(n-1)  a≈0.98\n",
    "\n",
    "    Args:\n",
    "        data (List[int]): 待加重的语音数据，一维数组\n",
    "        a (float, optional): 预加重系数. Defaults to 0.98.\n",
    "\n",
    "    Returns:\n",
    "        rst: List[float] 加重结果，使用了deepcopy，不会修改输入的data.\n",
    "    \"\"\"\n",
    "    # 要求输入的是一维数组(即元素不是容器类型)\n",
    "    assert all(not isinstance(item, Container) for item in data)\n",
    "    length = len(data)\n",
    "    rst = deepcopy(data)\n",
    "    for i in range(1, length):\n",
    "        rst[i] = rst[i] - a * rst[i - 1]\n",
    "    return rst"
   ]
  },
  {
   "cell_type": "markdown",
   "metadata": {},
   "source": [
    "## 分帧\n",
    "将data分为多个frame_length长度的二维数组，帧与帧之间存在重叠，故指定跳数hop_size，一般要求hop_size小于frame_length/2  \n",
    "语音信号是一个短时平稳信号，浊音是有规律的声带振动，即基音频率在短时范围内相对稳定。  \n",
    "可以认为，10~30ms内的语音片段是一个准稳态的，分为一帧。  \n",
    "一帧常规定为20ms~25ms，在采样率16Khz下，25ms意味着400个采样点。  \n",
    "两帧之间的基音可能变化，故重叠取帧，帧移10ms，重叠50%~60%。  "
   ]
  },
  {
   "cell_type": "code",
   "execution_count": null,
   "metadata": {},
   "outputs": [],
   "source": [
    "import numpy as np\n",
    "def framing(data, frame_length=2048, hop_size=512):\n",
    "    \"\"\"分帧，将data分为多个frame_length长度的二维数组，\n",
    "        帧与帧之间存在重叠，故指定跳数hop_size，一般要求hop_size<frame_length/2\n",
    "\n",
    "    Args:\n",
    "        data (List[float]): 预加重的音频数据\n",
    "        frame_length (int, optional): 每帧长. Defaults to 2048.\n",
    "        hop_size (int, optional): 步长. Defaults to 512.\n",
    "\n",
    "    Returns:\n",
    "        rst: List[List[float]] 分帧结果\n",
    "    \"\"\"\n",
    "    # 要求输入的是一维数组\n",
    "    assert all(not isinstance(item, Container) for item in data)\n",
    "    singal_length = len(data)\n",
    "    # 计算帧数\n",
    "    # 假设100个点，帧长20，每次移动10，求分几帧？\n",
    "    # 1-20, 10-30, 20-40...80-100 显然是8帧，计算方法是(采样点数-帧长)/step\n",
    "    fn = (singal_length - frame_length) / hop_size\n",
    "    # 向上取整，以保留所有帧\n",
    "    fn = int(np.ceil(fn))\n",
    "    # 如果有105个点,求补充0的数量? 多走一帧的开始:fn*step，+frame_length成为结尾，减去原采样点的数量得解。\n",
    "    # 80-100, 90-110，补充5个0. 计算方法是(fn*step+frame_length)-singal_length\n",
    "    zero_nums = (fn * hop_size + frame_length) - singal_length\n",
    "    zero_array = np.zeros(zero_nums)\n",
    "    # 拼接\n",
    "    tmp_data = np.array(deepcopy(data))\n",
    "    zero_array = zero_array.astype(tmp_data.dtype)\n",
    "    tmp_data = np.concatenate((tmp_data, zero_array))\n",
    "    # np.tile(A, times) 把数字A重复times次，times可以是高维的,本方法很好用.\n",
    "    rst = np.array(\n",
    "        [tmp_data[index : index + frame_length] for index in range(fn)]\n",
    "    ).astype(tmp_data.dtype)\n",
    "    return rst"
   ]
  },
  {
   "cell_type": "markdown",
   "metadata": {},
   "source": [
    "## 加窗\n",
    "分帧相当于对信号加了矩形窗，会发生过强的频谱泄露，加汉宁或汉明窗，以减少频谱泄露。"
   ]
  }
 ],
 "metadata": {
  "kernelspec": {
   "display_name": "Python 3.8.13 ('espnet')",
   "language": "python",
   "name": "python3"
  },
  "language_info": {
   "name": "python",
   "version": "3.8.13"
  },
  "orig_nbformat": 4,
  "vscode": {
   "interpreter": {
    "hash": "c085eeb1cb103ec2f9784dc08c37e4d20172fae9f66eaf20347152a3e5e0aa2e"
   }
  }
 },
 "nbformat": 4,
 "nbformat_minor": 2
}
